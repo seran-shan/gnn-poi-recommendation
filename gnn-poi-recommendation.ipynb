{
  "cells": [
    {
      "cell_type": "markdown",
      "metadata": {
        "id": "3QFVQFGq5fhy"
      },
      "source": [
        "# 🚀 Neural Network-Based Text Compression\n",
        "\n",
        "#### 🖋️ Authors\n",
        "- Feidnand Eide\n",
        "- Seran Shanmugathas\n"
      ]
    },
    {
      "cell_type": "markdown",
      "metadata": {
        "id": "scNmIktH5uGe"
      },
      "source": [
        "## 📚 Install Libraries\n",
        "We will need the following libraries:\n",
        "- `pytorch`\n",
        "- `pytorch-lightning`\n",
        "- `pandas`\n",
        "- `numpy`"
      ]
    },
    {
      "cell_type": "code",
      "execution_count": 8,
      "metadata": {
        "id": "lCUvtIEO50zN"
      },
      "outputs": [],
      "source": [
        "%pip install numpy pandas torch torch_geometric pytorch-lightning --quiet"
      ]
    },
    {
      "cell_type": "markdown",
      "metadata": {
        "id": "aOOW_DnB6pJM"
      },
      "source": [
        "## 📌 Import Dependencies\n",
        "The following libraries are used in this project:\n",
        "- Standard libraries: `enum`\n",
        "- PyTorch and PyTorch Lightning for model building and training\n",
        "- Pandas for data handling"
      ]
    },
    {
      "cell_type": "code",
      "execution_count": 9,
      "metadata": {
        "id": "o_ypwDRnyDv3"
      },
      "outputs": [],
      "source": [
        "# Standard libraries\n",
        "from enum import Enum\n",
        "\n",
        "# Pandas\n",
        "import pandas as pd\n",
        "\n",
        "# PyTorch Lightning\n",
        "import pytorch_lightning as pl\n",
        "\n",
        "# PyTorch\n",
        "import torch\n",
        "import torch.nn as nn\n",
        "import torch.nn.functional as F\n",
        "import torch.optim as optim\n",
        "\n",
        "# PyTorch geometric\n",
        "import torch_geometric\n",
        "import torch_geometric.data as geom_data\n",
        "import torch_geometric.nn as geom_nn\n",
        "\n",
        "# PL callbacks\n",
        "from pytorch_lightning.callbacks import ModelCheckpoint\n",
        "from torch import Tensor"
      ]
    },
    {
      "cell_type": "markdown",
      "metadata": {
        "id": "9H6PJz0d7ZFB"
      },
      "source": [
        "## 🔧 Configuration\n",
        "Set up the configuration for the model training."
      ]
    },
    {
      "cell_type": "code",
      "execution_count": 10,
      "metadata": {
        "id": "jhtWBGqd7Zwx"
      },
      "outputs": [],
      "source": [
        "config: dict = {\n",
        "    \"data_path\": \"dataset_tsmc2014/dataset_TSMC2014_NYC.txt\",\n",
        "    \"save_path\": \"models/model.pth\",\n",
        "    \"batch_size\": 32,\n",
        "    \"max_length\": 512,\n",
        "    \"vocab_size\": 256,\n",
        "    \"embedding_dim\": 128,\n",
        "    \"hidden_dim\": 256,\n",
        "    \"num_layers\": 2,\n",
        "    \"dropout_rate\": 0.5,\n",
        "    \"max_epochs\": 1,\n",
        "    \"learning_rzate\": 1e-3,\n",
        "    \"num_workers\": 11,\n",
        "    \"log_every_n_steps\": 20,\n",
        "    \"pin_memory\": True if torch.cuda.is_available() else False,\n",
        "    \"accelerator\": \"cuda\" if torch.cuda.is_available() else \"cpu\",\n",
        "}"
      ]
    },
    {
      "cell_type": "markdown",
      "metadata": {
        "id": "rOCTMcnO7iWu"
      },
      "source": [
        "## 🗂️ Load and Preprocess the Dataset\n"
      ]
    },
    {
      "cell_type": "markdown",
      "metadata": {
        "id": "gD13oIgU7moy"
      },
      "source": [
        "> Shell command for downloading data"
      ]
    },
    {
      "cell_type": "code",
      "execution_count": 11,
      "metadata": {
        "colab": {
          "base_uri": "https://localhost:8080/"
        },
        "id": "MX3vNdkxyITh",
        "outputId": "66ed6c87-4a9e-4f98-ae4c-68b866af6f80"
      },
      "outputs": [
        {
          "output_type": "stream",
          "name": "stdout",
          "text": [
            "--2024-01-20 14:15:59--  http://www-public.tem-tsp.eu/~zhang_da/pub/dataset_tsmc2014.zip\n",
            "Resolving www-public.tem-tsp.eu (www-public.tem-tsp.eu)... 157.159.10.107, 2001:660:3203:100:1:0:80:107\n",
            "Connecting to www-public.tem-tsp.eu (www-public.tem-tsp.eu)|157.159.10.107|:80... connected.\n",
            "HTTP request sent, awaiting response... 200 OK\n",
            "Length: 25546284 (24M) [application/zip]\n",
            "Saving to: ‘dataset_tsmc2014.zip’\n",
            "\n",
            "dataset_tsmc2014.zi 100%[===================>]  24.36M  7.13MB/s    in 5.3s    \n",
            "\n",
            "2024-01-20 14:16:05 (4.60 MB/s) - ‘dataset_tsmc2014.zip’ saved [25546284/25546284]\n",
            "\n",
            "Archive:  dataset_tsmc2014.zip\n",
            "   creating: dataset_tsmc2014/\n",
            "  inflating: dataset_tsmc2014/dataset_TSMC2014_NYC.txt  \n",
            "  inflating: dataset_tsmc2014/dataset_TSMC2014_readme.txt  \n",
            "  inflating: dataset_tsmc2014/dataset_TSMC2014_TKY.txt  \n"
          ]
        }
      ],
      "source": [
        "!wget http://www-public.tem-tsp.eu/~zhang_da/pub/dataset_tsmc2014.zip\n",
        "!unzip dataset_tsmc2014.zip"
      ]
    },
    {
      "cell_type": "markdown",
      "metadata": {
        "id": "Pl8pG26T-SjH"
      },
      "source": [
        "> Enum for defining columns in the dataset"
      ]
    },
    {
      "cell_type": "code",
      "execution_count": 12,
      "metadata": {
        "id": "7pvImQujyOp1"
      },
      "outputs": [],
      "source": [
        "class Columns(Enum):\n",
        "    \"\"\"\n",
        "    Enum containing the columns of the dataset.\n",
        "    \"\"\"\n",
        "    USER_ID = \"User ID\"\n",
        "    VENUE_ID = \"Venue ID\"\n",
        "    VENUE_CATEGORY_ID = \"Venue category ID\"\n",
        "    VENUE_CATEGORY_NAME = \"Venue category name\"\n",
        "    LATITUDE = \"Latitude\"\n",
        "    LONGITUDE = \"Longitude\"\n",
        "    TIMEZONE = \"Timezone\"\n",
        "    UTC_TIME = \"UTC time\""
      ]
    },
    {
      "cell_type": "code",
      "execution_count": 13,
      "metadata": {
        "id": "E3Mt9xtuySj7"
      },
      "outputs": [],
      "source": [
        "def load_data(path: str) -> pd.DataFrame:\n",
        "    \"\"\"\n",
        "    Load the data as a dataframe\n",
        "\n",
        "    Parameters\n",
        "    ----------\n",
        "    path: str\n",
        "        The path to load the data\n",
        "\n",
        "    Returns\n",
        "    -------\n",
        "    pd.DataFrame\n",
        "        The dataset\n",
        "    \"\"\"\n",
        "    columns = [column.value for column in Columns]\n",
        "    return pd.read_csv(path, sep='\\t', encoding='latin-1', names=columns)\n",
        "\n",
        "df = load_data(config[\"data_path\"])"
      ]
    },
    {
      "cell_type": "code",
      "execution_count": 14,
      "metadata": {
        "colab": {
          "base_uri": "https://localhost:8080/",
          "height": 598
        },
        "id": "f0miqyLx9fCp",
        "outputId": "603c72c2-3a07-49ba-8e5a-cb038237e91b"
      },
      "outputs": [
        {
          "output_type": "execute_result",
          "data": {
            "text/plain": [
              "   User ID                  Venue ID         Venue category ID  \\\n",
              "0      470  49bbd6c0f964a520f4531fe3  4bf58dd8d48988d127951735   \n",
              "1      979  4a43c0aef964a520c6a61fe3  4bf58dd8d48988d1df941735   \n",
              "2       69  4c5cc7b485a1e21e00d35711  4bf58dd8d48988d103941735   \n",
              "3      395  4bc7086715a7ef3bef9878da  4bf58dd8d48988d104941735   \n",
              "4       87  4cf2c5321d18a143951b5cec  4bf58dd8d48988d1cb941735   \n",
              "\n",
              "   Venue category name   Latitude  Longitude  Timezone  \\\n",
              "0  Arts & Crafts Store  40.719810 -74.002581      -240   \n",
              "1               Bridge  40.606800 -74.044170      -240   \n",
              "2       Home (private)  40.716162 -73.883070      -240   \n",
              "3       Medical Center  40.745164 -73.982519      -240   \n",
              "4           Food Truck  40.740104 -73.989658      -240   \n",
              "\n",
              "                         UTC time  \n",
              "0  Tue Apr 03 18:00:09 +0000 2012  \n",
              "1  Tue Apr 03 18:00:25 +0000 2012  \n",
              "2  Tue Apr 03 18:02:24 +0000 2012  \n",
              "3  Tue Apr 03 18:02:41 +0000 2012  \n",
              "4  Tue Apr 03 18:03:00 +0000 2012  "
            ],
            "text/html": [
              "\n",
              "  <div id=\"df-8003efe3-b222-40fa-b0ff-2f1b708728b4\" class=\"colab-df-container\">\n",
              "    <div>\n",
              "<style scoped>\n",
              "    .dataframe tbody tr th:only-of-type {\n",
              "        vertical-align: middle;\n",
              "    }\n",
              "\n",
              "    .dataframe tbody tr th {\n",
              "        vertical-align: top;\n",
              "    }\n",
              "\n",
              "    .dataframe thead th {\n",
              "        text-align: right;\n",
              "    }\n",
              "</style>\n",
              "<table border=\"1\" class=\"dataframe\">\n",
              "  <thead>\n",
              "    <tr style=\"text-align: right;\">\n",
              "      <th></th>\n",
              "      <th>User ID</th>\n",
              "      <th>Venue ID</th>\n",
              "      <th>Venue category ID</th>\n",
              "      <th>Venue category name</th>\n",
              "      <th>Latitude</th>\n",
              "      <th>Longitude</th>\n",
              "      <th>Timezone</th>\n",
              "      <th>UTC time</th>\n",
              "    </tr>\n",
              "  </thead>\n",
              "  <tbody>\n",
              "    <tr>\n",
              "      <th>0</th>\n",
              "      <td>470</td>\n",
              "      <td>49bbd6c0f964a520f4531fe3</td>\n",
              "      <td>4bf58dd8d48988d127951735</td>\n",
              "      <td>Arts &amp; Crafts Store</td>\n",
              "      <td>40.719810</td>\n",
              "      <td>-74.002581</td>\n",
              "      <td>-240</td>\n",
              "      <td>Tue Apr 03 18:00:09 +0000 2012</td>\n",
              "    </tr>\n",
              "    <tr>\n",
              "      <th>1</th>\n",
              "      <td>979</td>\n",
              "      <td>4a43c0aef964a520c6a61fe3</td>\n",
              "      <td>4bf58dd8d48988d1df941735</td>\n",
              "      <td>Bridge</td>\n",
              "      <td>40.606800</td>\n",
              "      <td>-74.044170</td>\n",
              "      <td>-240</td>\n",
              "      <td>Tue Apr 03 18:00:25 +0000 2012</td>\n",
              "    </tr>\n",
              "    <tr>\n",
              "      <th>2</th>\n",
              "      <td>69</td>\n",
              "      <td>4c5cc7b485a1e21e00d35711</td>\n",
              "      <td>4bf58dd8d48988d103941735</td>\n",
              "      <td>Home (private)</td>\n",
              "      <td>40.716162</td>\n",
              "      <td>-73.883070</td>\n",
              "      <td>-240</td>\n",
              "      <td>Tue Apr 03 18:02:24 +0000 2012</td>\n",
              "    </tr>\n",
              "    <tr>\n",
              "      <th>3</th>\n",
              "      <td>395</td>\n",
              "      <td>4bc7086715a7ef3bef9878da</td>\n",
              "      <td>4bf58dd8d48988d104941735</td>\n",
              "      <td>Medical Center</td>\n",
              "      <td>40.745164</td>\n",
              "      <td>-73.982519</td>\n",
              "      <td>-240</td>\n",
              "      <td>Tue Apr 03 18:02:41 +0000 2012</td>\n",
              "    </tr>\n",
              "    <tr>\n",
              "      <th>4</th>\n",
              "      <td>87</td>\n",
              "      <td>4cf2c5321d18a143951b5cec</td>\n",
              "      <td>4bf58dd8d48988d1cb941735</td>\n",
              "      <td>Food Truck</td>\n",
              "      <td>40.740104</td>\n",
              "      <td>-73.989658</td>\n",
              "      <td>-240</td>\n",
              "      <td>Tue Apr 03 18:03:00 +0000 2012</td>\n",
              "    </tr>\n",
              "  </tbody>\n",
              "</table>\n",
              "</div>\n",
              "    <div class=\"colab-df-buttons\">\n",
              "\n",
              "  <div class=\"colab-df-container\">\n",
              "    <button class=\"colab-df-convert\" onclick=\"convertToInteractive('df-8003efe3-b222-40fa-b0ff-2f1b708728b4')\"\n",
              "            title=\"Convert this dataframe to an interactive table.\"\n",
              "            style=\"display:none;\">\n",
              "\n",
              "  <svg xmlns=\"http://www.w3.org/2000/svg\" height=\"24px\" viewBox=\"0 -960 960 960\">\n",
              "    <path d=\"M120-120v-720h720v720H120Zm60-500h600v-160H180v160Zm220 220h160v-160H400v160Zm0 220h160v-160H400v160ZM180-400h160v-160H180v160Zm440 0h160v-160H620v160ZM180-180h160v-160H180v160Zm440 0h160v-160H620v160Z\"/>\n",
              "  </svg>\n",
              "    </button>\n",
              "\n",
              "  <style>\n",
              "    .colab-df-container {\n",
              "      display:flex;\n",
              "      gap: 12px;\n",
              "    }\n",
              "\n",
              "    .colab-df-convert {\n",
              "      background-color: #E8F0FE;\n",
              "      border: none;\n",
              "      border-radius: 50%;\n",
              "      cursor: pointer;\n",
              "      display: none;\n",
              "      fill: #1967D2;\n",
              "      height: 32px;\n",
              "      padding: 0 0 0 0;\n",
              "      width: 32px;\n",
              "    }\n",
              "\n",
              "    .colab-df-convert:hover {\n",
              "      background-color: #E2EBFA;\n",
              "      box-shadow: 0px 1px 2px rgba(60, 64, 67, 0.3), 0px 1px 3px 1px rgba(60, 64, 67, 0.15);\n",
              "      fill: #174EA6;\n",
              "    }\n",
              "\n",
              "    .colab-df-buttons div {\n",
              "      margin-bottom: 4px;\n",
              "    }\n",
              "\n",
              "    [theme=dark] .colab-df-convert {\n",
              "      background-color: #3B4455;\n",
              "      fill: #D2E3FC;\n",
              "    }\n",
              "\n",
              "    [theme=dark] .colab-df-convert:hover {\n",
              "      background-color: #434B5C;\n",
              "      box-shadow: 0px 1px 3px 1px rgba(0, 0, 0, 0.15);\n",
              "      filter: drop-shadow(0px 1px 2px rgba(0, 0, 0, 0.3));\n",
              "      fill: #FFFFFF;\n",
              "    }\n",
              "  </style>\n",
              "\n",
              "    <script>\n",
              "      const buttonEl =\n",
              "        document.querySelector('#df-8003efe3-b222-40fa-b0ff-2f1b708728b4 button.colab-df-convert');\n",
              "      buttonEl.style.display =\n",
              "        google.colab.kernel.accessAllowed ? 'block' : 'none';\n",
              "\n",
              "      async function convertToInteractive(key) {\n",
              "        const element = document.querySelector('#df-8003efe3-b222-40fa-b0ff-2f1b708728b4');\n",
              "        const dataTable =\n",
              "          await google.colab.kernel.invokeFunction('convertToInteractive',\n",
              "                                                    [key], {});\n",
              "        if (!dataTable) return;\n",
              "\n",
              "        const docLinkHtml = 'Like what you see? Visit the ' +\n",
              "          '<a target=\"_blank\" href=https://colab.research.google.com/notebooks/data_table.ipynb>data table notebook</a>'\n",
              "          + ' to learn more about interactive tables.';\n",
              "        element.innerHTML = '';\n",
              "        dataTable['output_type'] = 'display_data';\n",
              "        await google.colab.output.renderOutput(dataTable, element);\n",
              "        const docLink = document.createElement('div');\n",
              "        docLink.innerHTML = docLinkHtml;\n",
              "        element.appendChild(docLink);\n",
              "      }\n",
              "    </script>\n",
              "  </div>\n",
              "\n",
              "\n",
              "<div id=\"df-ae6eea42-adb1-40e6-847e-f0171664d2f8\">\n",
              "  <button class=\"colab-df-quickchart\" onclick=\"quickchart('df-ae6eea42-adb1-40e6-847e-f0171664d2f8')\"\n",
              "            title=\"Suggest charts\"\n",
              "            style=\"display:none;\">\n",
              "\n",
              "<svg xmlns=\"http://www.w3.org/2000/svg\" height=\"24px\"viewBox=\"0 0 24 24\"\n",
              "     width=\"24px\">\n",
              "    <g>\n",
              "        <path d=\"M19 3H5c-1.1 0-2 .9-2 2v14c0 1.1.9 2 2 2h14c1.1 0 2-.9 2-2V5c0-1.1-.9-2-2-2zM9 17H7v-7h2v7zm4 0h-2V7h2v10zm4 0h-2v-4h2v4z\"/>\n",
              "    </g>\n",
              "</svg>\n",
              "  </button>\n",
              "\n",
              "<style>\n",
              "  .colab-df-quickchart {\n",
              "      --bg-color: #E8F0FE;\n",
              "      --fill-color: #1967D2;\n",
              "      --hover-bg-color: #E2EBFA;\n",
              "      --hover-fill-color: #174EA6;\n",
              "      --disabled-fill-color: #AAA;\n",
              "      --disabled-bg-color: #DDD;\n",
              "  }\n",
              "\n",
              "  [theme=dark] .colab-df-quickchart {\n",
              "      --bg-color: #3B4455;\n",
              "      --fill-color: #D2E3FC;\n",
              "      --hover-bg-color: #434B5C;\n",
              "      --hover-fill-color: #FFFFFF;\n",
              "      --disabled-bg-color: #3B4455;\n",
              "      --disabled-fill-color: #666;\n",
              "  }\n",
              "\n",
              "  .colab-df-quickchart {\n",
              "    background-color: var(--bg-color);\n",
              "    border: none;\n",
              "    border-radius: 50%;\n",
              "    cursor: pointer;\n",
              "    display: none;\n",
              "    fill: var(--fill-color);\n",
              "    height: 32px;\n",
              "    padding: 0;\n",
              "    width: 32px;\n",
              "  }\n",
              "\n",
              "  .colab-df-quickchart:hover {\n",
              "    background-color: var(--hover-bg-color);\n",
              "    box-shadow: 0 1px 2px rgba(60, 64, 67, 0.3), 0 1px 3px 1px rgba(60, 64, 67, 0.15);\n",
              "    fill: var(--button-hover-fill-color);\n",
              "  }\n",
              "\n",
              "  .colab-df-quickchart-complete:disabled,\n",
              "  .colab-df-quickchart-complete:disabled:hover {\n",
              "    background-color: var(--disabled-bg-color);\n",
              "    fill: var(--disabled-fill-color);\n",
              "    box-shadow: none;\n",
              "  }\n",
              "\n",
              "  .colab-df-spinner {\n",
              "    border: 2px solid var(--fill-color);\n",
              "    border-color: transparent;\n",
              "    border-bottom-color: var(--fill-color);\n",
              "    animation:\n",
              "      spin 1s steps(1) infinite;\n",
              "  }\n",
              "\n",
              "  @keyframes spin {\n",
              "    0% {\n",
              "      border-color: transparent;\n",
              "      border-bottom-color: var(--fill-color);\n",
              "      border-left-color: var(--fill-color);\n",
              "    }\n",
              "    20% {\n",
              "      border-color: transparent;\n",
              "      border-left-color: var(--fill-color);\n",
              "      border-top-color: var(--fill-color);\n",
              "    }\n",
              "    30% {\n",
              "      border-color: transparent;\n",
              "      border-left-color: var(--fill-color);\n",
              "      border-top-color: var(--fill-color);\n",
              "      border-right-color: var(--fill-color);\n",
              "    }\n",
              "    40% {\n",
              "      border-color: transparent;\n",
              "      border-right-color: var(--fill-color);\n",
              "      border-top-color: var(--fill-color);\n",
              "    }\n",
              "    60% {\n",
              "      border-color: transparent;\n",
              "      border-right-color: var(--fill-color);\n",
              "    }\n",
              "    80% {\n",
              "      border-color: transparent;\n",
              "      border-right-color: var(--fill-color);\n",
              "      border-bottom-color: var(--fill-color);\n",
              "    }\n",
              "    90% {\n",
              "      border-color: transparent;\n",
              "      border-bottom-color: var(--fill-color);\n",
              "    }\n",
              "  }\n",
              "</style>\n",
              "\n",
              "  <script>\n",
              "    async function quickchart(key) {\n",
              "      const quickchartButtonEl =\n",
              "        document.querySelector('#' + key + ' button');\n",
              "      quickchartButtonEl.disabled = true;  // To prevent multiple clicks.\n",
              "      quickchartButtonEl.classList.add('colab-df-spinner');\n",
              "      try {\n",
              "        const charts = await google.colab.kernel.invokeFunction(\n",
              "            'suggestCharts', [key], {});\n",
              "      } catch (error) {\n",
              "        console.error('Error during call to suggestCharts:', error);\n",
              "      }\n",
              "      quickchartButtonEl.classList.remove('colab-df-spinner');\n",
              "      quickchartButtonEl.classList.add('colab-df-quickchart-complete');\n",
              "    }\n",
              "    (() => {\n",
              "      let quickchartButtonEl =\n",
              "        document.querySelector('#df-ae6eea42-adb1-40e6-847e-f0171664d2f8 button');\n",
              "      quickchartButtonEl.style.display =\n",
              "        google.colab.kernel.accessAllowed ? 'block' : 'none';\n",
              "    })();\n",
              "  </script>\n",
              "</div>\n",
              "    </div>\n",
              "  </div>\n"
            ]
          },
          "metadata": {},
          "execution_count": 14
        }
      ],
      "source": [
        "df.head()"
      ]
    },
    {
      "cell_type": "markdown",
      "metadata": {
        "id": "jr-e6bMDLUvi"
      },
      "source": [
        "> Clean the data"
      ]
    },
    {
      "cell_type": "code",
      "execution_count": 15,
      "metadata": {
        "id": "iohkYn_lKies",
        "colab": {
          "base_uri": "https://localhost:8080/"
        },
        "outputId": "97415a47-49a2-4f1b-a913-463eea8bbc1b"
      },
      "outputs": [
        {
          "output_type": "stream",
          "name": "stdout",
          "text": [
            "Original data\n",
            "227428\n",
            "227178\n"
          ]
        }
      ],
      "source": [
        "print(\"Original data\")\n",
        "\n",
        "print(len(df))\n",
        "df = df.drop_duplicates()\n",
        "df = df.dropna()\n",
        "print(len(df))\n",
        "\n"
      ]
    },
    {
      "cell_type": "markdown",
      "metadata": {
        "id": "fgY_tABw_hsO"
      },
      "source": [
        "## 🤖 The Model\n",
        "Here we define our GCN-based Recommendation system"
      ]
    },
    {
      "cell_type": "code",
      "source": [
        "class GCNLayer(nn.Module):\n",
        "    def __init__(self, input_channels: int, output_channels: int):\n",
        "        \"\"\"\n",
        "        Graph Convolutional Network (GCN) Layer.\n",
        "\n",
        "        Parameters\n",
        "        ----------\n",
        "        input_channels : int\n",
        "            The number of input channels (features) per node.\n",
        "        output_channels : int\n",
        "            The number of output channels (features) per node.\n",
        "        \"\"\"\n",
        "        super().__init__()\n",
        "        self.projection = nn.Linear(input_channels, output_channels)\n",
        "\n",
        "    def forward(self, node_features: Tensor, adjacency_matrix: Tensor) -> Tensor:\n",
        "        \"\"\"\n",
        "        Forward pass of the GCN layer.\n",
        "\n",
        "        Parameters\n",
        "        ----------\n",
        "        node_features : Tensor\n",
        "            Tensor containing node features with shape [batch_size, num_nodes, c_in].\n",
        "        adjacency_matrix : Tensor\n",
        "            Batch of adjacency matrices of the graph. Shape: [batch_size, num_nodes, num_nodes].\n",
        "            If there is an edge from node i to j, adj_matrix[b,i,j]=1, else 0. Supports directed\n",
        "            edges with non-symmetric matrices. Assumes identity connections are already added.\n",
        "\n",
        "        Returns\n",
        "        -------\n",
        "        Tensor\n",
        "            The updated node features after applying the GCN layer, with shape\n",
        "            [batch_size, num_nodes, c_out].\n",
        "\n",
        "        \"\"\"\n",
        "        # Number of neighbours = number of incoming edges\n",
        "        num_neighbours = adjacency_matrix.sum(dim=-1, keepdims=True)\n",
        "        node_features = self.projection(node_features)\n",
        "        node_features = torch.bmm(adjacency_matrix, node_features)\n",
        "        return node_features / num_neighbours"
      ],
      "metadata": {
        "id": "N2zlPkeaMfHj"
      },
      "execution_count": 16,
      "outputs": []
    },
    {
      "cell_type": "code",
      "source": [
        "node_features = torch.arange(8, dtype=torch.float32).view(1, 4, 2)\n",
        "adjacency_matrix = Tensor([[[1, 1, 0, 0], [1, 1, 1, 1], [0, 1, 1, 1], [0, 1, 1, 1]]])\n",
        "\n",
        "print(\"Node features:\\n\", node_features)\n",
        "print(\"\\nAdjacency matrix:\\n\", adjacency_matrix)"
      ],
      "metadata": {
        "colab": {
          "base_uri": "https://localhost:8080/"
        },
        "id": "RH8DQ4G1Psjc",
        "outputId": "ab1785cd-53ca-41d4-ad30-2edfceb27308"
      },
      "execution_count": 21,
      "outputs": [
        {
          "output_type": "stream",
          "name": "stdout",
          "text": [
            "Node features:\n",
            " tensor([[[0., 1.],\n",
            "         [2., 3.],\n",
            "         [4., 5.],\n",
            "         [6., 7.]]])\n",
            "\n",
            "Adjacency matrix:\n",
            " tensor([[[1., 1., 0., 0.],\n",
            "         [1., 1., 1., 1.],\n",
            "         [0., 1., 1., 1.],\n",
            "         [0., 1., 1., 1.]]])\n"
          ]
        }
      ]
    },
    {
      "cell_type": "markdown",
      "source": [
        "## 🏋️‍♂️ Training\n",
        "Setting up the training environment and initiating the training process."
      ],
      "metadata": {
        "id": "jgfRTqaJOsoG"
      }
    },
    {
      "cell_type": "markdown",
      "metadata": {
        "id": "XL1JqWgO_802"
      },
      "source": [
        "## 📈 Evaluation\n",
        "Evaluating the model on the test set."
      ]
    },
    {
      "cell_type": "code",
      "execution_count": 16,
      "metadata": {
        "id": "UDmJZLRr_9JM"
      },
      "outputs": [],
      "source": []
    }
  ],
  "metadata": {
    "colab": {
      "provenance": [],
      "gpuType": "T4"
    },
    "kernelspec": {
      "display_name": "Python 3",
      "name": "python3"
    },
    "language_info": {
      "name": "python"
    },
    "accelerator": "GPU"
  },
  "nbformat": 4,
  "nbformat_minor": 0
}